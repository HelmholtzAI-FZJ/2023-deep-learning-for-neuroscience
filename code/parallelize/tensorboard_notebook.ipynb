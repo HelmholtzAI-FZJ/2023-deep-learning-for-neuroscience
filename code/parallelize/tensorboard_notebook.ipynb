{
 "cells": [
  {
   "cell_type": "code",
   "execution_count": 8,
   "id": "d9de5d38-86eb-4b41-9ba1-549702f26074",
   "metadata": {
    "tags": []
   },
   "outputs": [
    {
     "name": "stdout",
     "output_type": "stream",
     "text": [
      "The tensorboard extension is already loaded. To reload it, use:\n",
      "  %reload_ext tensorboard\n"
     ]
    },
    {
     "data": {
      "text/html": [
       "\n",
       "      <iframe id=\"tensorboard-frame-daed31a624325a24\" width=\"100%\" height=\"800\" frameborder=\"0\">\n",
       "      </iframe>\n",
       "      <script>\n",
       "        (function() {\n",
       "          const frame = document.getElementById(\"tensorboard-frame-daed31a624325a24\");\n",
       "          const url = new URL(\"/user/s.benassou_at_fz-juelich.de/c252ca69cad34ba486fdf8d809b02f74/proxy/absolute/8882/\", window.location);\n",
       "          frame.src = url;\n",
       "        })();\n",
       "      </script>\n",
       "  "
      ],
      "text/plain": [
       "<IPython.core.display.HTML object>"
      ]
     },
     "metadata": {},
     "output_type": "display_data"
    }
   ],
   "source": [
    "import random\n",
    "MYPORT = random.randint(10000, 15000)\n",
    "%load_ext tensorboard\n",
    "%tensorboard --logdir lightning_logs/ --port $MYPORT"
   ]
  },
  {
   "cell_type": "code",
   "execution_count": null,
   "id": "c82fea5a-78fd-4200-b57e-0cc8e56de729",
   "metadata": {},
   "outputs": [],
   "source": []
  }
 ],
 "metadata": {
  "kernelspec": {
   "display_name": "INM-course",
   "language": "python",
   "name": "inm-course"
  },
  "language_info": {
   "codemirror_mode": {
    "name": "ipython",
    "version": 3
   },
   "file_extension": ".py",
   "mimetype": "text/x-python",
   "name": "python",
   "nbconvert_exporter": "python",
   "pygments_lexer": "ipython3",
   "version": "3.10.4"
  }
 },
 "nbformat": 4,
 "nbformat_minor": 5
}
